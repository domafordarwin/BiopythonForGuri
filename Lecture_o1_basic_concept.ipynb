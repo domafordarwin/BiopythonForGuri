{
 "cells": [
  {
   "cell_type": "markdown",
   "id": "ee8ff197",
   "metadata": {},
   "source": [
    "# 기본 사용법"
   ]
  },
  {
   "cell_type": "markdown",
   "id": "ef6ef174",
   "metadata": {},
   "source": [
    "## 01. 라이브러리 불러오기"
   ]
  },
  {
   "cell_type": "markdown",
   "id": "823a9fda",
   "metadata": {},
   "source": [
    "- 라이브러리 불러오기"
   ]
  },
  {
   "cell_type": "code",
   "execution_count": null,
   "id": "04423a1a",
   "metadata": {},
   "outputs": [],
   "source": [
    "import Bio\n",
    "\n",
    "print(Bio.__version__)"
   ]
  },
  {
   "cell_type": "markdown",
   "id": "7d149b07",
   "metadata": {},
   "source": [
    "- 서열 불러오기: Seq"
   ]
  },
  {
   "cell_type": "code",
   "execution_count": null,
   "id": "be6f8bd5",
   "metadata": {},
   "outputs": [],
   "source": [
    "from Bio.Seq import Seq"
   ]
  },
  {
   "cell_type": "code",
   "execution_count": null,
   "id": "ad23e588",
   "metadata": {},
   "outputs": [],
   "source": [
    "my_seq = Seq(\"AGCTAAATTCAGGGACACACT\")"
   ]
  },
  {
   "cell_type": "code",
   "execution_count": null,
   "id": "14e115df",
   "metadata": {},
   "outputs": [],
   "source": [
    "my_seq"
   ]
  },
  {
   "cell_type": "code",
   "execution_count": null,
   "id": "2fc7de2b",
   "metadata": {},
   "outputs": [],
   "source": [
    "print(my_seq)"
   ]
  },
  {
   "cell_type": "markdown",
   "id": "3e41c339",
   "metadata": {},
   "source": [
    "- 상보적 서열구하기"
   ]
  },
  {
   "cell_type": "code",
   "execution_count": null,
   "id": "0f230a33",
   "metadata": {},
   "outputs": [],
   "source": [
    "my_seq.complement()"
   ]
  },
  {
   "cell_type": "markdown",
   "id": "7b9794e9",
   "metadata": {},
   "source": [
    "- 반대가닥의 상보적 서열 얻기"
   ]
  },
  {
   "cell_type": "code",
   "execution_count": null,
   "id": "1cea37ec",
   "metadata": {},
   "outputs": [],
   "source": [
    "my_seq.reverse_complement()"
   ]
  },
  {
   "cell_type": "markdown",
   "id": "30cdf78e",
   "metadata": {},
   "source": [
    "- FASTA 서열 읽어오기 - SeqIO.read()"
   ]
  },
  {
   "cell_type": "code",
   "execution_count": null,
   "id": "450ad90b",
   "metadata": {},
   "outputs": [],
   "source": [
    "from Bio import SeqIO"
   ]
  },
  {
   "cell_type": "code",
   "execution_count": null,
   "id": "4536e656",
   "metadata": {},
   "outputs": [],
   "source": [
    "seq = SeqIO.read(\"one.fasta\", \"fasta\")"
   ]
  },
  {
   "cell_type": "code",
   "execution_count": null,
   "id": "8b7099ba",
   "metadata": {},
   "outputs": [],
   "source": [
    "print(type(seq))"
   ]
  },
  {
   "cell_type": "code",
   "execution_count": null,
   "id": "624c7fe9",
   "metadata": {},
   "outputs": [],
   "source": [
    "print(seq)"
   ]
  },
  {
   "cell_type": "markdown",
   "id": "74ba0139",
   "metadata": {},
   "source": [
    "- FASTA 서열 읽어오기1 - SeqIO.parse()"
   ]
  },
  {
   "cell_type": "code",
   "execution_count": null,
   "id": "a29de603",
   "metadata": {},
   "outputs": [],
   "source": [
    "seq2 = SeqIO.parse(\"one.fasta\", \"fasta\")"
   ]
  },
  {
   "cell_type": "code",
   "execution_count": null,
   "id": "571738b5",
   "metadata": {},
   "outputs": [],
   "source": [
    "print(type(seq2))"
   ]
  },
  {
   "cell_type": "code",
   "execution_count": null,
   "id": "8c380d20",
   "metadata": {},
   "outputs": [],
   "source": [
    "print(seq)"
   ]
  },
  {
   "cell_type": "code",
   "execution_count": null,
   "id": "c446d9a1",
   "metadata": {},
   "outputs": [],
   "source": [
    "for s in seq:\n",
    "    print(type(s))\n",
    "    print(s)"
   ]
  },
  {
   "cell_type": "markdown",
   "id": "711e8c8b",
   "metadata": {},
   "source": [
    "- Genbank 서열 읽어오기 "
   ]
  },
  {
   "cell_type": "code",
   "execution_count": null,
   "id": "fb975d7d",
   "metadata": {},
   "outputs": [],
   "source": [
    "# seq3 = SeqIO.parse(\"ls_orchid.gbk\", \"genbank\")\n",
    "for seq_record in SeqIO.parse(\"ls_orchid.gbk\", \"genbank\"):\n",
    "    print(seq_record.id)\n",
    "    print(repr(seq_record.seq))\n",
    "    print(len(seq_record))"
   ]
  },
  {
   "cell_type": "markdown",
   "id": "9e0e2c78",
   "metadata": {},
   "source": [
    "# 서열 객체의 특징 알아보기"
   ]
  },
  {
   "cell_type": "markdown",
   "id": "3c3e67c8",
   "metadata": {},
   "source": [
    "## 1. 서열 객체는 문자열 특징을 가지고 있음"
   ]
  },
  {
   "cell_type": "code",
   "execution_count": null,
   "id": "0926b67d",
   "metadata": {},
   "outputs": [],
   "source": [
    "from Bio.Seq import Seq"
   ]
  },
  {
   "cell_type": "code",
   "execution_count": null,
   "id": "47246e8f",
   "metadata": {},
   "outputs": [],
   "source": [
    "my_seq = Seq(\"GACATTACGAAA\")"
   ]
  },
  {
   "cell_type": "code",
   "execution_count": null,
   "id": "3899a687",
   "metadata": {},
   "outputs": [],
   "source": [
    "for letter in enumerate(my_seq):\n",
    "    print(type(letter))\n",
    "    print(letter)"
   ]
  },
  {
   "cell_type": "code",
   "execution_count": null,
   "id": "943814d2",
   "metadata": {},
   "outputs": [],
   "source": [
    "for index, letter in enumerate(my_seq):\n",
    "    print(\"%i %s\" % (index, letter))"
   ]
  },
  {
   "cell_type": "code",
   "execution_count": null,
   "id": "2ad73265",
   "metadata": {},
   "outputs": [],
   "source": [
    "print(len(my_seq))"
   ]
  },
  {
   "cell_type": "code",
   "execution_count": null,
   "id": "e69a8299",
   "metadata": {},
   "outputs": [],
   "source": [
    "print(my_seq[0:4])"
   ]
  },
  {
   "cell_type": "code",
   "execution_count": null,
   "id": "72d8a140",
   "metadata": {},
   "outputs": [],
   "source": [
    "my_seq.count(\"AC\")"
   ]
  },
  {
   "cell_type": "code",
   "execution_count": null,
   "id": "da74a492",
   "metadata": {},
   "outputs": [],
   "source": [
    "# GC 함량 계산하기"
   ]
  },
  {
   "cell_type": "code",
   "execution_count": null,
   "id": "1e50b93d",
   "metadata": {},
   "outputs": [],
   "source": [
    "GC_rate = (my_seq.count(\"G\")+my_seq.count(\"C\"))/len(my_seq)* 100"
   ]
  },
  {
   "cell_type": "code",
   "execution_count": null,
   "id": "b74dac22",
   "metadata": {},
   "outputs": [],
   "source": [
    "print(f\"GC 함량은 {GC_rate:.2f}\")"
   ]
  },
  {
   "cell_type": "code",
   "execution_count": null,
   "id": "f022e4d1",
   "metadata": {},
   "outputs": [],
   "source": [
    "from Bio.SeqUtils import GC\n",
    "GC(my_seq)"
   ]
  },
  {
   "cell_type": "markdown",
   "id": "ae4a416f",
   "metadata": {},
   "source": [
    "# 2. Slicing a Sequence"
   ]
  },
  {
   "cell_type": "code",
   "execution_count": null,
   "id": "b4521d47",
   "metadata": {},
   "outputs": [],
   "source": [
    "my_seq = Seq(\"GACATTACGAAA\")"
   ]
  },
  {
   "cell_type": "code",
   "execution_count": null,
   "id": "23f0f94a",
   "metadata": {},
   "outputs": [],
   "source": [
    "my_seq[2:6]"
   ]
  },
  {
   "cell_type": "code",
   "execution_count": null,
   "id": "4d0956e2",
   "metadata": {},
   "outputs": [],
   "source": [
    "my_seq[2:: 2]"
   ]
  },
  {
   "cell_type": "markdown",
   "id": "2141e532",
   "metadata": {},
   "source": [
    "## 3. 서열 데이터를 문자열로 바꾸기"
   ]
  },
  {
   "cell_type": "code",
   "execution_count": null,
   "id": "7950d1ed",
   "metadata": {},
   "outputs": [],
   "source": [
    "my_seq2 = str(my_seq)"
   ]
  },
  {
   "cell_type": "code",
   "execution_count": null,
   "id": "38bd9960",
   "metadata": {},
   "outputs": [],
   "source": [
    "print(type(my_seq))\n",
    "print(type(my_seq2))\n"
   ]
  },
  {
   "cell_type": "code",
   "execution_count": null,
   "id": "1daaff7f",
   "metadata": {},
   "outputs": [],
   "source": [
    "print(my_seq)\n",
    "print(my_seq2)"
   ]
  },
  {
   "cell_type": "code",
   "execution_count": null,
   "id": "304e7749",
   "metadata": {},
   "outputs": [],
   "source": [
    "fasta_format_string = \">Name\\n%s\\n\" % my_seq"
   ]
  },
  {
   "cell_type": "code",
   "execution_count": null,
   "id": "3fde1189",
   "metadata": {},
   "outputs": [],
   "source": [
    "print(fasta_format_string)\n",
    "print(type(fasta_format_string))"
   ]
  },
  {
   "cell_type": "code",
   "execution_count": null,
   "id": "7121d8cd",
   "metadata": {},
   "outputs": [],
   "source": [
    "fasta_format_string2 = \">Name\\n%s\\n\" % my_seq2"
   ]
  },
  {
   "cell_type": "code",
   "execution_count": null,
   "id": "f660ba2e",
   "metadata": {},
   "outputs": [],
   "source": [
    "print(fasta_format_string2)"
   ]
  },
  {
   "cell_type": "code",
   "execution_count": null,
   "id": "0941f8dc",
   "metadata": {},
   "outputs": [],
   "source": [
    "protein_seq = Seq(\"EVRNAK\")"
   ]
  },
  {
   "cell_type": "code",
   "execution_count": null,
   "id": "377a2b56",
   "metadata": {},
   "outputs": [],
   "source": [
    "dna_seq=Seq(\"GACATTACGAAA\")"
   ]
  },
  {
   "cell_type": "code",
   "execution_count": null,
   "id": "f1dcc2a1",
   "metadata": {},
   "outputs": [],
   "source": [
    "# 두 서열을 합치기\n",
    "mix_seq = protein_seq + dna_seq"
   ]
  },
  {
   "cell_type": "code",
   "execution_count": null,
   "id": "d6daeeec",
   "metadata": {},
   "outputs": [],
   "source": [
    "protein_seq"
   ]
  },
  {
   "cell_type": "code",
   "execution_count": null,
   "id": "e0635c88",
   "metadata": {},
   "outputs": [],
   "source": [
    "dna_seq"
   ]
  },
  {
   "cell_type": "code",
   "execution_count": null,
   "id": "7f22a23d",
   "metadata": {},
   "outputs": [],
   "source": [
    "mix_seq"
   ]
  },
  {
   "cell_type": "markdown",
   "id": "ae295006",
   "metadata": {},
   "source": [
    "- 서열 정보 리스트 만들기"
   ]
  },
  {
   "cell_type": "code",
   "execution_count": null,
   "id": "7cca16d2",
   "metadata": {},
   "outputs": [],
   "source": [
    "list_of_seqs = [Seq(\"ACGT\"), Seq(\"AACC\"), Seq(\"GGTT\")]"
   ]
  },
  {
   "cell_type": "code",
   "execution_count": null,
   "id": "908b51c4",
   "metadata": {},
   "outputs": [],
   "source": [
    "list_of_seqs"
   ]
  },
  {
   "cell_type": "code",
   "execution_count": null,
   "id": "da8d3d30",
   "metadata": {},
   "outputs": [],
   "source": [
    "print(list_of_seqs[0])"
   ]
  },
  {
   "cell_type": "markdown",
   "id": "4dadaf00",
   "metadata": {},
   "source": [
    "- for구문을 이용하여 서열 리스트를 하나의 서열로 만들기"
   ]
  },
  {
   "cell_type": "code",
   "execution_count": null,
   "id": "5192066c",
   "metadata": {},
   "outputs": [],
   "source": [
    "concatenated = \"\"\n",
    "\n",
    "for s in list_of_seqs:\n",
    "    concatenated += s"
   ]
  },
  {
   "cell_type": "code",
   "execution_count": null,
   "id": "0b620626",
   "metadata": {},
   "outputs": [],
   "source": [
    "concatenated"
   ]
  },
  {
   "cell_type": "markdown",
   "id": "2f4ffa61",
   "metadata": {},
   "source": [
    "- Join method를 이용한 서열 합치기"
   ]
  },
  {
   "cell_type": "code",
   "execution_count": null,
   "id": "463a1310",
   "metadata": {},
   "outputs": [],
   "source": [
    "spacer = Seq(\"N\"*10)"
   ]
  },
  {
   "cell_type": "code",
   "execution_count": null,
   "id": "54c34fd0",
   "metadata": {},
   "outputs": [],
   "source": [
    "my_seq3 = spacer.join(list_of_seqs)"
   ]
  },
  {
   "cell_type": "code",
   "execution_count": null,
   "id": "38934668",
   "metadata": {},
   "outputs": [],
   "source": [
    "my_seq3"
   ]
  },
  {
   "cell_type": "markdown",
   "id": "8f0fe2c8",
   "metadata": {},
   "source": [
    "- 소문자를 대문자로 상호전환하기"
   ]
  },
  {
   "cell_type": "code",
   "execution_count": null,
   "id": "d60575ae",
   "metadata": {},
   "outputs": [],
   "source": [
    "dna_seq2 = Seq(\"agagagCTCCTCT\")"
   ]
  },
  {
   "cell_type": "code",
   "execution_count": null,
   "id": "aef8e13d",
   "metadata": {},
   "outputs": [],
   "source": [
    "dna_seq2.upper()"
   ]
  },
  {
   "cell_type": "code",
   "execution_count": null,
   "id": "5621e806",
   "metadata": {},
   "outputs": [],
   "source": [
    "dna_seq2.lower()"
   ]
  },
  {
   "cell_type": "code",
   "execution_count": null,
   "id": "ac66a94e",
   "metadata": {},
   "outputs": [],
   "source": [
    "\"AGAG\" in dna_seq2"
   ]
  },
  {
   "cell_type": "code",
   "execution_count": null,
   "id": "f40961af",
   "metadata": {},
   "outputs": [],
   "source": [
    "\"AGAG\" in dna_seq2.upper()"
   ]
  },
  {
   "cell_type": "markdown",
   "id": "ff6f57b9",
   "metadata": {},
   "source": [
    "- 상보적 서열 구하기"
   ]
  },
  {
   "cell_type": "code",
   "execution_count": null,
   "id": "8b939468",
   "metadata": {},
   "outputs": [],
   "source": [
    "dna_seq = Seq(\"agagagCTCCTCTG\").upper()"
   ]
  },
  {
   "cell_type": "code",
   "execution_count": null,
   "id": "53f8bb31",
   "metadata": {},
   "outputs": [],
   "source": [
    "dna_seq"
   ]
  },
  {
   "cell_type": "code",
   "execution_count": null,
   "id": "7168b363",
   "metadata": {},
   "outputs": [],
   "source": [
    "dna_seq[::-1]  # 슬라이싱 아이디어를 이용한 서열 뒤집기"
   ]
  },
  {
   "cell_type": "code",
   "execution_count": null,
   "id": "17292f94",
   "metadata": {},
   "outputs": [],
   "source": [
    "dna_seq.complement()"
   ]
  },
  {
   "cell_type": "markdown",
   "id": "19e0a78d",
   "metadata": {},
   "source": [
    "-상보적 서열을 구하고 5-말단부터 나열하기 위하여 서열 뒤집기"
   ]
  },
  {
   "cell_type": "code",
   "execution_count": null,
   "id": "6c73fcfe",
   "metadata": {},
   "outputs": [],
   "source": [
    "dna_seq.reverse_complement()"
   ]
  },
  {
   "cell_type": "markdown",
   "id": "336d4f3a",
   "metadata": {},
   "source": [
    "- 전사 정보 구하기"
   ]
  },
  {
   "cell_type": "code",
   "execution_count": null,
   "id": "d1bcebd1",
   "metadata": {},
   "outputs": [],
   "source": [
    "coding_dna =  Seq(\"AGCTAAATTCAGGGACACACTGGG\")"
   ]
  },
  {
   "cell_type": "code",
   "execution_count": null,
   "id": "070ae3ed",
   "metadata": {},
   "outputs": [],
   "source": [
    "template_dna = coding_dna.reverse_complement()\n",
    "template_dna"
   ]
  },
  {
   "cell_type": "code",
   "execution_count": null,
   "id": "f5d4a6f9",
   "metadata": {},
   "outputs": [],
   "source": [
    "messenger_rna = template_dna.reverse_complement_rna()\n",
    "messenger_rna"
   ]
  },
  {
   "cell_type": "code",
   "execution_count": null,
   "id": "9c9b9675",
   "metadata": {},
   "outputs": [],
   "source": [
    "messenger_rna = coding_dna.transcribe()\n",
    "messenger_rna"
   ]
  },
  {
   "cell_type": "markdown",
   "id": "d04719f9",
   "metadata": {},
   "source": [
    "- 메신저 RNA 서열로부터 DNA 서열 구하기"
   ]
  },
  {
   "cell_type": "code",
   "execution_count": null,
   "id": "c923809d",
   "metadata": {},
   "outputs": [],
   "source": [
    "messenger_rna = Seq(\"AUGGCCAUUGUAAUGGGCCGCUGAAAGGGUGCCCGAUAG\")"
   ]
  },
  {
   "cell_type": "code",
   "execution_count": null,
   "id": "cf3c8df1",
   "metadata": {},
   "outputs": [],
   "source": [
    "coding_dna = messenger_rna.back_transcribe()\n",
    "coding_dna"
   ]
  },
  {
   "cell_type": "markdown",
   "id": "bee372c0",
   "metadata": {},
   "source": [
    "## 번역 과정에 대한 코딩"
   ]
  },
  {
   "cell_type": "code",
   "execution_count": null,
   "id": "a8d279bc",
   "metadata": {},
   "outputs": [],
   "source": [
    "messenger_rna = Seq(\"AUGGCCAUUGUAAUGGGCCGCUGAAAGGGUGCCCGAUAG\")"
   ]
  },
  {
   "cell_type": "code",
   "execution_count": null,
   "id": "7d8c1eed",
   "metadata": {},
   "outputs": [],
   "source": [
    "protein_seq = messenger_rna.translate()\n",
    "protein_seq"
   ]
  },
  {
   "cell_type": "code",
   "execution_count": null,
   "id": "3bbbc6d4",
   "metadata": {},
   "outputs": [],
   "source": [
    "protein_seq2 = coding_dna.translate()\n",
    "protein_seq2"
   ]
  },
  {
   "cell_type": "markdown",
   "id": "85ab4eb7",
   "metadata": {},
   "source": [
    "- 미토콘드리아 번역 서열"
   ]
  },
  {
   "cell_type": "code",
   "execution_count": null,
   "id": "d9e2e48d",
   "metadata": {},
   "outputs": [],
   "source": [
    "protein_seq3 = coding_dna.translate(table=\"Vertebrate Mitochondrial\")\n",
    "protein_seq3"
   ]
  },
  {
   "cell_type": "code",
   "execution_count": null,
   "id": "78a000e2",
   "metadata": {},
   "outputs": [],
   "source": [
    "protein_seq4 = coding_dna.translate(table=2)\n",
    "protein_seq4"
   ]
  },
  {
   "cell_type": "markdown",
   "id": "d8465c21",
   "metadata": {},
   "source": [
    "- 첫 번째 스탑 코돈에서 번역 끝내기"
   ]
  },
  {
   "cell_type": "code",
   "execution_count": null,
   "id": "76153fd8",
   "metadata": {},
   "outputs": [],
   "source": [
    "protein_seq4 = coding_dna.translate(to_stop=True)\n",
    "protein_seq4"
   ]
  },
  {
   "cell_type": "markdown",
   "id": "a126986c",
   "metadata": {},
   "source": [
    "- 미토콘드리아에서 스탑코돈 적용하기"
   ]
  },
  {
   "cell_type": "code",
   "execution_count": null,
   "id": "1537a503",
   "metadata": {},
   "outputs": [],
   "source": [
    "protein_seq4 = coding_dna.translate(table=2, to_stop=True)\n",
    "protein_seq4"
   ]
  },
  {
   "cell_type": "markdown",
   "id": "a6930cee",
   "metadata": {},
   "source": [
    "-종결 부위를 다른 문자를 이용하여 나타내기 "
   ]
  },
  {
   "cell_type": "code",
   "execution_count": null,
   "id": "01a9944a",
   "metadata": {},
   "outputs": [],
   "source": [
    "protein_seq4 = coding_dna.translate(table=2, stop_symbol=\"@\")\n",
    "protein_seq4"
   ]
  },
  {
   "cell_type": "code",
   "execution_count": null,
   "id": "af7726c9",
   "metadata": {},
   "outputs": [],
   "source": [
    "gene = Seq(\"GTGAAAAAGATGCAATCTATCGTACTCGCACTTTCCCTGGTTCTGGTCG\\\n",
    "CTCCCATGGCAGCACAGGCTGCGGAAATTACGTTAGTCCCGTCAGTAAAA\\\n",
    "TTACAGATAGGCGATCGTGATAATCGTGGCTATTACTGGGATGGAGGTCAC\\\n",
    "TGGCGCGACCACGGCTGGTGGAAACAACATTATGAATGGCGAGGCAATCGCT\\\n",
    "GGCACCTACACGGACCGCCGCCACCGCCGCGCCACCATAAGAAAGCTCCTCA\\\n",
    "TGATCATCACGGCGGTCATGGTCCAGGCAAACATCACCGCTAA\")\n"
   ]
  },
  {
   "cell_type": "code",
   "execution_count": null,
   "id": "85865ab1",
   "metadata": {},
   "outputs": [],
   "source": [
    "gene.translate(table=\"Bacterial\")\n"
   ]
  },
  {
   "cell_type": "code",
   "execution_count": null,
   "id": "6f71253f",
   "metadata": {},
   "outputs": [],
   "source": [
    "gene.translate(table=\"Bacterial\", to_stop=True)"
   ]
  },
  {
   "cell_type": "markdown",
   "id": "66cbb405",
   "metadata": {},
   "source": [
    "- 세균의 경우 시작 코돈으로 GTG를 사용하는 것에 맞추어 재번역"
   ]
  },
  {
   "cell_type": "code",
   "execution_count": null,
   "id": "b7d1be71",
   "metadata": {},
   "outputs": [],
   "source": [
    "gene.translate(table=\"Bacterial\", cds=True)"
   ]
  },
  {
   "cell_type": "markdown",
   "id": "40a9fa7f",
   "metadata": {},
   "source": [
    "### 번역틀 작업하기"
   ]
  },
  {
   "cell_type": "code",
   "execution_count": null,
   "id": "50740b94",
   "metadata": {},
   "outputs": [],
   "source": [
    "from Bio.Data import CodonTable"
   ]
  },
  {
   "cell_type": "code",
   "execution_count": null,
   "id": "e0bab3d8",
   "metadata": {},
   "outputs": [],
   "source": [
    "standard_table = CodonTable.unambiguous_dna_by_name[\"Standard\"]"
   ]
  },
  {
   "cell_type": "code",
   "execution_count": null,
   "id": "bf6b4c42",
   "metadata": {},
   "outputs": [],
   "source": [
    "standard_table"
   ]
  },
  {
   "cell_type": "code",
   "execution_count": null,
   "id": "31bbf077",
   "metadata": {},
   "outputs": [],
   "source": [
    "print(standard_table)"
   ]
  },
  {
   "cell_type": "markdown",
   "id": "47ed6af5",
   "metadata": {},
   "source": [
    "- 미토콘드리아의 경우"
   ]
  },
  {
   "cell_type": "code",
   "execution_count": null,
   "id": "dd2230c2",
   "metadata": {},
   "outputs": [],
   "source": [
    "mito_table = CodonTable.unambiguous_dna_by_name[\"Vertebrate Mitochondrial\"]"
   ]
  },
  {
   "cell_type": "code",
   "execution_count": null,
   "id": "bc95d9bb",
   "metadata": {},
   "outputs": [],
   "source": [
    "print(mito_table)"
   ]
  },
  {
   "cell_type": "code",
   "execution_count": null,
   "id": "fc538330",
   "metadata": {},
   "outputs": [],
   "source": [
    "standard_table = CodonTable.unambiguous_dna_by_id[1]\n",
    "print(standard_table)"
   ]
  },
  {
   "cell_type": "code",
   "execution_count": null,
   "id": "f6214e2f",
   "metadata": {},
   "outputs": [],
   "source": [
    "standard_table"
   ]
  },
  {
   "cell_type": "code",
   "execution_count": null,
   "id": "00e93fcc",
   "metadata": {},
   "outputs": [],
   "source": [
    "mito_table = CodonTable.unambiguous_dna_by_id[2]\n",
    "mito_table"
   ]
  },
  {
   "cell_type": "code",
   "execution_count": null,
   "id": "6255b294",
   "metadata": {},
   "outputs": [],
   "source": [
    "mito_table.stop_codons"
   ]
  },
  {
   "cell_type": "code",
   "execution_count": null,
   "id": "f62d3a55",
   "metadata": {},
   "outputs": [],
   "source": [
    "mito_table.start_codons"
   ]
  },
  {
   "cell_type": "code",
   "execution_count": null,
   "id": "59c91f4c",
   "metadata": {},
   "outputs": [],
   "source": [
    "standard_table.start_codons"
   ]
  },
  {
   "cell_type": "code",
   "execution_count": null,
   "id": "f5c30b16",
   "metadata": {},
   "outputs": [],
   "source": [
    "standard_table.stop_codons"
   ]
  },
  {
   "cell_type": "code",
   "execution_count": null,
   "id": "c9898190",
   "metadata": {},
   "outputs": [],
   "source": [
    "mito_table.forward_table[\"ACG\"]"
   ]
  },
  {
   "cell_type": "markdown",
   "id": "d18d8461",
   "metadata": {},
   "source": [
    "## 서열 비교하기"
   ]
  },
  {
   "cell_type": "code",
   "execution_count": null,
   "id": "22809a7e",
   "metadata": {},
   "outputs": [],
   "source": [
    "seq1 = Seq(\"ACGT\")"
   ]
  },
  {
   "cell_type": "code",
   "execution_count": null,
   "id": "7457e9de",
   "metadata": {},
   "outputs": [],
   "source": [
    "\"ACGT\" == seq1"
   ]
  },
  {
   "cell_type": "code",
   "execution_count": null,
   "id": "9b834aa4",
   "metadata": {},
   "outputs": [],
   "source": [
    "seq1 == \"ACGT\""
   ]
  },
  {
   "cell_type": "code",
   "execution_count": null,
   "id": "d04787dc",
   "metadata": {},
   "outputs": [],
   "source": [
    "seq2 = Seq(\"ACGTGGGGGG\")"
   ]
  },
  {
   "cell_type": "code",
   "execution_count": null,
   "id": "60c49857",
   "metadata": {},
   "outputs": [],
   "source": [
    "seq1 == seq2"
   ]
  },
  {
   "cell_type": "code",
   "execution_count": null,
   "id": "da2f24af",
   "metadata": {},
   "outputs": [],
   "source": [
    "seq3 =  \"ACGT\""
   ]
  },
  {
   "cell_type": "code",
   "execution_count": null,
   "id": "40779557",
   "metadata": {},
   "outputs": [],
   "source": [
    "seq1 == seq3"
   ]
  },
  {
   "cell_type": "code",
   "execution_count": null,
   "id": "2e4552db",
   "metadata": {},
   "outputs": [],
   "source": [
    "seq3 in seq2"
   ]
  },
  {
   "cell_type": "markdown",
   "id": "60aef6e5",
   "metadata": {},
   "source": [
    "- 미확인 서열 다루기"
   ]
  },
  {
   "cell_type": "code",
   "execution_count": null,
   "id": "60c170d0",
   "metadata": {},
   "outputs": [],
   "source": [
    "unknown_seq = Seq(None, 10)\n",
    "unknown_seq"
   ]
  },
  {
   "cell_type": "code",
   "execution_count": null,
   "id": "f65f75eb",
   "metadata": {
    "scrolled": true
   },
   "outputs": [],
   "source": [
    "print(unknown_seq)"
   ]
  },
  {
   "cell_type": "markdown",
   "id": "70cee73a",
   "metadata": {},
   "source": [
    "- 변경 가능한 서열 만들기\n",
    "\n",
    "Seq 메소드에 의해 생성된 서열은 변경이 불가함."
   ]
  },
  {
   "cell_type": "code",
   "execution_count": 172,
   "id": "ab3b632e",
   "metadata": {},
   "outputs": [],
   "source": [
    "from Bio.Seq import Seq"
   ]
  },
  {
   "cell_type": "code",
   "execution_count": 236,
   "id": "77c6d534",
   "metadata": {},
   "outputs": [],
   "source": [
    "original_seq = Seq(\"GCCATTGTAATGGGCCGCTGAAAGGGTGCCCGA\")"
   ]
  },
  {
   "cell_type": "markdown",
   "id": "663f1d64",
   "metadata": {},
   "source": [
    "> Seq 메소드로 생성된 객체는 수정하려면 에러가 발생함"
   ]
  },
  {
   "cell_type": "code",
   "execution_count": 174,
   "id": "8c60c305",
   "metadata": {},
   "outputs": [
    {
     "ename": "TypeError",
     "evalue": "'Seq' object does not support item assignment",
     "output_type": "error",
     "traceback": [
      "\u001b[1;31m---------------------------------------------------------------------------\u001b[0m",
      "\u001b[1;31mTypeError\u001b[0m                                 Traceback (most recent call last)",
      "\u001b[1;32m<ipython-input-174-a2a17d13af97>\u001b[0m in \u001b[0;36m<module>\u001b[1;34m\u001b[0m\n\u001b[1;32m----> 1\u001b[1;33m \u001b[0moriginal_seq\u001b[0m\u001b[1;33m[\u001b[0m\u001b[1;36m5\u001b[0m\u001b[1;33m]\u001b[0m \u001b[1;33m=\u001b[0m \u001b[1;34m\"G\"\u001b[0m\u001b[1;33m\u001b[0m\u001b[1;33m\u001b[0m\u001b[0m\n\u001b[0m",
      "\u001b[1;31mTypeError\u001b[0m: 'Seq' object does not support item assignment"
     ]
    }
   ],
   "source": [
    "original_seq[5] = \"G\""
   ]
  },
  {
   "cell_type": "code",
   "execution_count": 229,
   "id": "8471d464",
   "metadata": {},
   "outputs": [],
   "source": [
    "from Bio.Seq import MutableSeq"
   ]
  },
  {
   "cell_type": "code",
   "execution_count": 230,
   "id": "b905cbcc",
   "metadata": {},
   "outputs": [
    {
     "data": {
      "text/plain": [
       "33"
      ]
     },
     "execution_count": 230,
     "metadata": {},
     "output_type": "execute_result"
    }
   ],
   "source": [
    "mutable_seq = MutableSeq(original_seq)\n",
    "len(mutable_seq)"
   ]
  },
  {
   "cell_type": "code",
   "execution_count": 215,
   "id": "2a2c709c",
   "metadata": {},
   "outputs": [
    {
     "data": {
      "text/plain": [
       "MutableSeq('ACCATTGTAATGGGCCGCTGAAAGGGTGCCCGA')"
      ]
     },
     "execution_count": 215,
     "metadata": {},
     "output_type": "execute_result"
    }
   ],
   "source": [
    "mutable_seq[0] = \"A\"\n",
    "mutable_seq"
   ]
  },
  {
   "cell_type": "code",
   "execution_count": 216,
   "id": "76219731",
   "metadata": {},
   "outputs": [
    {
     "data": {
      "text/plain": [
       "32"
      ]
     },
     "execution_count": 216,
     "metadata": {},
     "output_type": "execute_result"
    }
   ],
   "source": [
    "mutable_seq.remove(\"A\")\n",
    "mutable_seq\n",
    "len(mutable_seq)"
   ]
  },
  {
   "cell_type": "code",
   "execution_count": 227,
   "id": "0d63587e",
   "metadata": {},
   "outputs": [
    {
     "name": "stdout",
     "output_type": "stream",
     "text": [
      "CCATTTAATCCCTAAATCCCA\n"
     ]
    }
   ],
   "source": [
    "for i in mutable_seq:\n",
    "    if \"G\" in mutable_seq:\n",
    "        mutable_seq.remove(\"G\")\n",
    "    else:\n",
    "        break\n",
    "print(mutable_seq)\n"
   ]
  },
  {
   "cell_type": "code",
   "execution_count": 237,
   "id": "1b034497",
   "metadata": {},
   "outputs": [
    {
     "data": {
      "text/plain": [
       "MutableSeq('AGCCCGTGGGAAAGTCGCCGGGTAATGTTACCG')"
      ]
     },
     "execution_count": 237,
     "metadata": {},
     "output_type": "execute_result"
    }
   ],
   "source": [
    "mutable_seq.reverse()\n",
    "mutable_seq"
   ]
  },
  {
   "cell_type": "markdown",
   "id": "0c06b504",
   "metadata": {},
   "source": [
    "> mutable 객체를 seq로 재생성하면 변경불가함"
   ]
  },
  {
   "cell_type": "code",
   "execution_count": 238,
   "id": "ddcfde8a",
   "metadata": {},
   "outputs": [],
   "source": [
    "new_seq = Seq(mutable_seq)"
   ]
  },
  {
   "cell_type": "code",
   "execution_count": 239,
   "id": "4becc9fe",
   "metadata": {},
   "outputs": [
    {
     "ename": "TypeError",
     "evalue": "'Seq' object does not support item assignment",
     "output_type": "error",
     "traceback": [
      "\u001b[1;31m---------------------------------------------------------------------------\u001b[0m",
      "\u001b[1;31mTypeError\u001b[0m                                 Traceback (most recent call last)",
      "\u001b[1;32m<ipython-input-239-8449e0a9da21>\u001b[0m in \u001b[0;36m<module>\u001b[1;34m\u001b[0m\n\u001b[1;32m----> 1\u001b[1;33m \u001b[0mnew_seq\u001b[0m\u001b[1;33m[\u001b[0m\u001b[1;36m9\u001b[0m\u001b[1;33m]\u001b[0m\u001b[1;33m=\u001b[0m\u001b[1;34m\"T\"\u001b[0m\u001b[1;33m\u001b[0m\u001b[1;33m\u001b[0m\u001b[0m\n\u001b[0m",
      "\u001b[1;31mTypeError\u001b[0m: 'Seq' object does not support item assignment"
     ]
    }
   ],
   "source": [
    "new_seq[9]=\"T\""
   ]
  },
  {
   "cell_type": "markdown",
   "id": "0a102846",
   "metadata": {},
   "source": [
    "미확인 객체 만들기"
   ]
  },
  {
   "cell_type": "code",
   "execution_count": 240,
   "id": "175c0ce0",
   "metadata": {},
   "outputs": [],
   "source": [
    "from Bio.Seq import UnknownSeq"
   ]
  },
  {
   "cell_type": "code",
   "execution_count": 241,
   "id": "25dfcf99",
   "metadata": {},
   "outputs": [
    {
     "name": "stderr",
     "output_type": "stream",
     "text": [
      "C:\\Users\\User\\anaconda3\\lib\\site-packages\\Bio\\Seq.py:2008: BiopythonDeprecationWarning: UnknownSeq(length) is deprecated; please use Seq(None, length) instead.\n",
      "  warnings.warn(\n"
     ]
    },
    {
     "data": {
      "text/plain": [
       "UnknownSeq(20, character='?')"
      ]
     },
     "execution_count": 241,
     "metadata": {},
     "output_type": "execute_result"
    }
   ],
   "source": [
    "unk = UnknownSeq(20)\n",
    "unk"
   ]
  },
  {
   "cell_type": "code",
   "execution_count": 242,
   "id": "4bbee87c",
   "metadata": {},
   "outputs": [
    {
     "data": {
      "text/plain": [
       "Seq(None, length=20)"
      ]
     },
     "execution_count": 242,
     "metadata": {},
     "output_type": "execute_result"
    }
   ],
   "source": [
    "unk2 = Seq(None, 20)\n",
    "unk2"
   ]
  },
  {
   "cell_type": "code",
   "execution_count": 243,
   "id": "70408723",
   "metadata": {},
   "outputs": [
    {
     "name": "stdout",
     "output_type": "stream",
     "text": [
      "????????????????????\n"
     ]
    }
   ],
   "source": [
    "print(unk)"
   ]
  },
  {
   "cell_type": "code",
   "execution_count": 244,
   "id": "fe3e514c",
   "metadata": {},
   "outputs": [
    {
     "ename": "UndefinedSequenceError",
     "evalue": "Sequence content is undefined",
     "output_type": "error",
     "traceback": [
      "\u001b[1;31m---------------------------------------------------------------------------\u001b[0m",
      "\u001b[1;31mUndefinedSequenceError\u001b[0m                    Traceback (most recent call last)",
      "\u001b[1;32m<ipython-input-244-e1943f1f7477>\u001b[0m in \u001b[0;36m<module>\u001b[1;34m\u001b[0m\n\u001b[1;32m----> 1\u001b[1;33m \u001b[0mprint\u001b[0m\u001b[1;33m(\u001b[0m\u001b[0munk2\u001b[0m\u001b[1;33m)\u001b[0m\u001b[1;33m\u001b[0m\u001b[1;33m\u001b[0m\u001b[0m\n\u001b[0m",
      "\u001b[1;32m~\\anaconda3\\lib\\site-packages\\Bio\\Seq.py\u001b[0m in \u001b[0;36m__str__\u001b[1;34m(self)\u001b[0m\n\u001b[0;32m    324\u001b[0m     \u001b[1;32mdef\u001b[0m \u001b[0m__str__\u001b[0m\u001b[1;33m(\u001b[0m\u001b[0mself\u001b[0m\u001b[1;33m)\u001b[0m\u001b[1;33m:\u001b[0m\u001b[1;33m\u001b[0m\u001b[1;33m\u001b[0m\u001b[0m\n\u001b[0;32m    325\u001b[0m         \u001b[1;34m\"\"\"Return the full sequence as a python string.\"\"\"\u001b[0m\u001b[1;33m\u001b[0m\u001b[1;33m\u001b[0m\u001b[0m\n\u001b[1;32m--> 326\u001b[1;33m         \u001b[1;32mreturn\u001b[0m \u001b[0mself\u001b[0m\u001b[1;33m.\u001b[0m\u001b[0m_data\u001b[0m\u001b[1;33m.\u001b[0m\u001b[0mdecode\u001b[0m\u001b[1;33m(\u001b[0m\u001b[1;34m\"ASCII\"\u001b[0m\u001b[1;33m)\u001b[0m\u001b[1;33m\u001b[0m\u001b[1;33m\u001b[0m\u001b[0m\n\u001b[0m\u001b[0;32m    327\u001b[0m \u001b[1;33m\u001b[0m\u001b[0m\n\u001b[0;32m    328\u001b[0m     \u001b[1;32mdef\u001b[0m \u001b[0m__eq__\u001b[0m\u001b[1;33m(\u001b[0m\u001b[0mself\u001b[0m\u001b[1;33m,\u001b[0m \u001b[0mother\u001b[0m\u001b[1;33m)\u001b[0m\u001b[1;33m:\u001b[0m\u001b[1;33m\u001b[0m\u001b[1;33m\u001b[0m\u001b[0m\n",
      "\u001b[1;32m~\\anaconda3\\lib\\site-packages\\Bio\\Seq.py\u001b[0m in \u001b[0;36mdecode\u001b[1;34m(self, encoding)\u001b[0m\n\u001b[0;32m    145\u001b[0m           \u001b[0mThe\u001b[0m \u001b[0mencoding\u001b[0m \u001b[1;32mwith\u001b[0m \u001b[0mwhich\u001b[0m \u001b[0mto\u001b[0m \u001b[0mdecode\u001b[0m \u001b[0mthe\u001b[0m \u001b[0mbytes\u001b[0m\u001b[1;33m.\u001b[0m\u001b[1;33m\u001b[0m\u001b[1;33m\u001b[0m\u001b[0m\n\u001b[0;32m    146\u001b[0m         \"\"\"\n\u001b[1;32m--> 147\u001b[1;33m         \u001b[1;32mreturn\u001b[0m \u001b[0mbytes\u001b[0m\u001b[1;33m(\u001b[0m\u001b[0mself\u001b[0m\u001b[1;33m)\u001b[0m\u001b[1;33m.\u001b[0m\u001b[0mdecode\u001b[0m\u001b[1;33m(\u001b[0m\u001b[0mencoding\u001b[0m\u001b[1;33m)\u001b[0m\u001b[1;33m\u001b[0m\u001b[1;33m\u001b[0m\u001b[0m\n\u001b[0m\u001b[0;32m    148\u001b[0m \u001b[1;33m\u001b[0m\u001b[0m\n\u001b[0;32m    149\u001b[0m     \u001b[1;32mdef\u001b[0m \u001b[0mcount\u001b[0m\u001b[1;33m(\u001b[0m\u001b[0mself\u001b[0m\u001b[1;33m,\u001b[0m \u001b[0msub\u001b[0m\u001b[1;33m,\u001b[0m \u001b[0mstart\u001b[0m\u001b[1;33m=\u001b[0m\u001b[1;32mNone\u001b[0m\u001b[1;33m,\u001b[0m \u001b[0mend\u001b[0m\u001b[1;33m=\u001b[0m\u001b[1;32mNone\u001b[0m\u001b[1;33m)\u001b[0m\u001b[1;33m:\u001b[0m\u001b[1;33m\u001b[0m\u001b[1;33m\u001b[0m\u001b[0m\n",
      "\u001b[1;32m~\\anaconda3\\lib\\site-packages\\Bio\\Seq.py\u001b[0m in \u001b[0;36m__bytes__\u001b[1;34m(self)\u001b[0m\n\u001b[0;32m   2793\u001b[0m         \u001b[1;32mif\u001b[0m \u001b[0mself\u001b[0m\u001b[1;33m.\u001b[0m\u001b[0m_length\u001b[0m \u001b[1;33m==\u001b[0m \u001b[1;36m0\u001b[0m\u001b[1;33m:\u001b[0m\u001b[1;33m\u001b[0m\u001b[1;33m\u001b[0m\u001b[0m\n\u001b[0;32m   2794\u001b[0m             \u001b[1;32mreturn\u001b[0m \u001b[1;34mb\"\"\u001b[0m\u001b[1;33m\u001b[0m\u001b[1;33m\u001b[0m\u001b[0m\n\u001b[1;32m-> 2795\u001b[1;33m         \u001b[1;32mraise\u001b[0m \u001b[0mUndefinedSequenceError\u001b[0m\u001b[1;33m(\u001b[0m\u001b[1;34m\"Sequence content is undefined\"\u001b[0m\u001b[1;33m)\u001b[0m\u001b[1;33m\u001b[0m\u001b[1;33m\u001b[0m\u001b[0m\n\u001b[0m\u001b[0;32m   2796\u001b[0m \u001b[1;33m\u001b[0m\u001b[0m\n\u001b[0;32m   2797\u001b[0m     \u001b[1;32mdef\u001b[0m \u001b[0m__add__\u001b[0m\u001b[1;33m(\u001b[0m\u001b[0mself\u001b[0m\u001b[1;33m,\u001b[0m \u001b[0mother\u001b[0m\u001b[1;33m)\u001b[0m\u001b[1;33m:\u001b[0m\u001b[1;33m\u001b[0m\u001b[1;33m\u001b[0m\u001b[0m\n",
      "\u001b[1;31mUndefinedSequenceError\u001b[0m: Sequence content is undefined"
     ]
    }
   ],
   "source": [
    "print(unk2)"
   ]
  },
  {
   "cell_type": "code",
   "execution_count": 245,
   "id": "df1692bd",
   "metadata": {},
   "outputs": [
    {
     "name": "stderr",
     "output_type": "stream",
     "text": [
      "C:\\Users\\User\\anaconda3\\lib\\site-packages\\Bio\\Seq.py:2008: BiopythonDeprecationWarning: UnknownSeq(length) is deprecated; please use Seq(None, length) instead.\n",
      "  warnings.warn(\n"
     ]
    },
    {
     "data": {
      "text/plain": [
       "UnknownSeq(20, character='N')"
      ]
     },
     "execution_count": 245,
     "metadata": {},
     "output_type": "execute_result"
    }
   ],
   "source": [
    "unk = UnknownSeq(20, character=\"N\")\n",
    "unk"
   ]
  },
  {
   "cell_type": "code",
   "execution_count": 246,
   "id": "d3f08da2",
   "metadata": {},
   "outputs": [
    {
     "data": {
      "text/plain": [
       "UnknownSeq(20, character='N')"
      ]
     },
     "execution_count": 246,
     "metadata": {},
     "output_type": "execute_result"
    }
   ],
   "source": [
    "unk"
   ]
  },
  {
   "cell_type": "code",
   "execution_count": 247,
   "id": "80421dfd",
   "metadata": {},
   "outputs": [
    {
     "name": "stdout",
     "output_type": "stream",
     "text": [
      "NNNNNNNNNNNNNNNNNNNN\n"
     ]
    }
   ],
   "source": [
    "print(unk)"
   ]
  },
  {
   "cell_type": "code",
   "execution_count": 248,
   "id": "e600d567",
   "metadata": {},
   "outputs": [
    {
     "name": "stderr",
     "output_type": "stream",
     "text": [
      "C:\\Users\\User\\anaconda3\\lib\\site-packages\\Bio\\Seq.py:2008: BiopythonDeprecationWarning: UnknownSeq(length) is deprecated; please use Seq(None, length) instead.\n",
      "  warnings.warn(\n"
     ]
    },
    {
     "data": {
      "text/plain": [
       "UnknownSeq(20, character='N')"
      ]
     },
     "execution_count": 248,
     "metadata": {},
     "output_type": "execute_result"
    }
   ],
   "source": [
    "unk.complement()"
   ]
  },
  {
   "cell_type": "code",
   "execution_count": 249,
   "id": "6e3a3fde",
   "metadata": {},
   "outputs": [
    {
     "name": "stderr",
     "output_type": "stream",
     "text": [
      "C:\\Users\\User\\anaconda3\\lib\\site-packages\\Bio\\Seq.py:2008: BiopythonDeprecationWarning: UnknownSeq(length) is deprecated; please use Seq(None, length) instead.\n",
      "  warnings.warn(\n"
     ]
    }
   ],
   "source": [
    "unk_protein = unk.translate()"
   ]
  },
  {
   "cell_type": "code",
   "execution_count": 250,
   "id": "286028ab",
   "metadata": {},
   "outputs": [
    {
     "name": "stdout",
     "output_type": "stream",
     "text": [
      "XXXXXX\n"
     ]
    }
   ],
   "source": [
    "print(unk_protein)"
   ]
  },
  {
   "cell_type": "code",
   "execution_count": 251,
   "id": "70050b73",
   "metadata": {},
   "outputs": [],
   "source": [
    "from Bio.Seq import reverse_complement, transcribe, back_transcribe, translate"
   ]
  },
  {
   "cell_type": "code",
   "execution_count": 252,
   "id": "e369e1ea",
   "metadata": {},
   "outputs": [],
   "source": [
    "my_string = \"GCTGTTATGGGTCGTTGGAAGGGTGGTCGTGCTGCTGGTTAG\""
   ]
  },
  {
   "cell_type": "code",
   "execution_count": 253,
   "id": "74416291",
   "metadata": {},
   "outputs": [
    {
     "data": {
      "text/plain": [
       "'AVMGRWKGGRAAG*'"
      ]
     },
     "execution_count": 253,
     "metadata": {},
     "output_type": "execute_result"
    }
   ],
   "source": [
    "translate(my_string)"
   ]
  },
  {
   "cell_type": "code",
   "execution_count": null,
   "id": "2d794317",
   "metadata": {},
   "outputs": [],
   "source": []
  },
  {
   "cell_type": "code",
   "execution_count": null,
   "id": "7bc9133d",
   "metadata": {},
   "outputs": [],
   "source": []
  },
  {
   "cell_type": "code",
   "execution_count": null,
   "id": "9a68dafd",
   "metadata": {},
   "outputs": [],
   "source": []
  }
 ],
 "metadata": {
  "kernelspec": {
   "display_name": "Python 3",
   "language": "python",
   "name": "python3"
  },
  "language_info": {
   "codemirror_mode": {
    "name": "ipython",
    "version": 3
   },
   "file_extension": ".py",
   "mimetype": "text/x-python",
   "name": "python",
   "nbconvert_exporter": "python",
   "pygments_lexer": "ipython3",
   "version": "3.8.8"
  }
 },
 "nbformat": 4,
 "nbformat_minor": 5
}
