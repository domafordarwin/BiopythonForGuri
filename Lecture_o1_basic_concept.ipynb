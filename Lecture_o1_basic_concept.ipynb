{
 "cells": [
  {
   "cell_type": "markdown",
   "id": "ee8ff197",
   "metadata": {},
   "source": [
    "# 기본 사용법"
   ]
  },
  {
   "cell_type": "markdown",
   "id": "ef6ef174",
   "metadata": {},
   "source": [
    "## 01. 라이브러리 불러오기"
   ]
  },
  {
   "cell_type": "code",
   "execution_count": 2,
   "id": "be6f8bd5",
   "metadata": {},
   "outputs": [],
   "source": [
    "from Bio.Seq import Seq"
   ]
  },
  {
   "cell_type": "code",
   "execution_count": null,
   "id": "ad23e588",
   "metadata": {},
   "outputs": [],
   "source": [
    "my_seq = Seq(\"AGCTAAATTCAGGGACACACT\")"
   ]
  },
  {
   "cell_type": "code",
   "execution_count": null,
   "id": "14e115df",
   "metadata": {},
   "outputs": [],
   "source": [
    "my_seq"
   ]
  },
  {
   "cell_type": "code",
   "execution_count": null,
   "id": "2fc7de2b",
   "metadata": {},
   "outputs": [],
   "source": [
    "print(my_seq)"
   ]
  },
  {
   "cell_type": "markdown",
   "id": "3e41c339",
   "metadata": {},
   "source": [
    "- 상보적 서열구하기"
   ]
  },
  {
   "cell_type": "code",
   "execution_count": null,
   "id": "0f230a33",
   "metadata": {},
   "outputs": [],
   "source": [
    "my_seq.complement()"
   ]
  },
  {
   "cell_type": "markdown",
   "id": "7b9794e9",
   "metadata": {},
   "source": [
    "- 반대가닥의 상보적 서열 얻기"
   ]
  },
  {
   "cell_type": "code",
   "execution_count": null,
   "id": "1cea37ec",
   "metadata": {},
   "outputs": [],
   "source": [
    "my_seq.reverse_complement()"
   ]
  },
  {
   "cell_type": "markdown",
   "id": "30cdf78e",
   "metadata": {},
   "source": [
    "- FASTA 서열 읽어오기 - SeqIO.read()"
   ]
  },
  {
   "cell_type": "code",
   "execution_count": 4,
   "id": "450ad90b",
   "metadata": {},
   "outputs": [],
   "source": [
    "from Bio import SeqIO"
   ]
  },
  {
   "cell_type": "code",
   "execution_count": null,
   "id": "4536e656",
   "metadata": {},
   "outputs": [],
   "source": [
    "seq = SeqIO.read(\"one.fasta\", \"fasta\")"
   ]
  },
  {
   "cell_type": "code",
   "execution_count": null,
   "id": "8b7099ba",
   "metadata": {},
   "outputs": [],
   "source": [
    "print(type(seq))"
   ]
  },
  {
   "cell_type": "code",
   "execution_count": null,
   "id": "624c7fe9",
   "metadata": {},
   "outputs": [],
   "source": [
    "print(seq)"
   ]
  },
  {
   "cell_type": "markdown",
   "id": "74ba0139",
   "metadata": {},
   "source": [
    "- FASTA 서열 읽어오기1 - SeqIO.parse()"
   ]
  },
  {
   "cell_type": "code",
   "execution_count": 11,
   "id": "a29de603",
   "metadata": {},
   "outputs": [],
   "source": [
    "seq2 = SeqIO.parse(\"one.fasta\", \"fasta\")"
   ]
  },
  {
   "cell_type": "code",
   "execution_count": null,
   "id": "571738b5",
   "metadata": {},
   "outputs": [],
   "source": [
    "print(type(seq2))"
   ]
  },
  {
   "cell_type": "code",
   "execution_count": null,
   "id": "8c380d20",
   "metadata": {},
   "outputs": [],
   "source": [
    "print(seq)"
   ]
  },
  {
   "cell_type": "code",
   "execution_count": null,
   "id": "c446d9a1",
   "metadata": {},
   "outputs": [],
   "source": [
    "for s in seq:\n",
    "    print(type(s))\n",
    "    print(s)"
   ]
  },
  {
   "cell_type": "markdown",
   "id": "711e8c8b",
   "metadata": {},
   "source": [
    "- Genbank 서열 읽어오기 "
   ]
  },
  {
   "cell_type": "code",
   "execution_count": null,
   "id": "fb975d7d",
   "metadata": {},
   "outputs": [],
   "source": [
    "# seq3 = SeqIO.parse(\"ls_orchid.gbk\", \"genbank\")\n",
    "for seq_record in SeqIO.parse(\"ls_orchid.gbk\", \"genbank\"):\n",
    "    print(seq_record.id)\n",
    "    print(repr(seq_record.seq))\n",
    "    print(len(seq_record))"
   ]
  },
  {
   "cell_type": "markdown",
   "id": "9e0e2c78",
   "metadata": {},
   "source": [
    "# 서열 객체의 특징 알아보기"
   ]
  },
  {
   "cell_type": "markdown",
   "id": "3c3e67c8",
   "metadata": {},
   "source": [
    "## 1. 서열 객체는 문자열 특징을 가지고 있음"
   ]
  },
  {
   "cell_type": "code",
   "execution_count": 17,
   "id": "0926b67d",
   "metadata": {},
   "outputs": [],
   "source": [
    "from Bio.Seq import Seq"
   ]
  },
  {
   "cell_type": "code",
   "execution_count": 18,
   "id": "47246e8f",
   "metadata": {},
   "outputs": [],
   "source": [
    "my_seq = Seq(\"GACATTACGAAA\")"
   ]
  },
  {
   "cell_type": "code",
   "execution_count": 23,
   "id": "3899a687",
   "metadata": {},
   "outputs": [
    {
     "name": "stdout",
     "output_type": "stream",
     "text": [
      "(0, 'G')\n",
      "(1, 'A')\n",
      "(2, 'C')\n",
      "(3, 'A')\n",
      "(4, 'T')\n",
      "(5, 'T')\n",
      "(6, 'A')\n",
      "(7, 'C')\n",
      "(8, 'G')\n",
      "(9, 'A')\n",
      "(10, 'A')\n",
      "(11, 'A')\n"
     ]
    }
   ],
   "source": [
    "for letter in enumerate(my_seq):\n",
    "    print(letter)"
   ]
  },
  {
   "cell_type": "code",
   "execution_count": 26,
   "id": "943814d2",
   "metadata": {},
   "outputs": [
    {
     "name": "stdout",
     "output_type": "stream",
     "text": [
      "0 G\n",
      "1 A\n",
      "2 C\n",
      "3 A\n",
      "4 T\n",
      "5 T\n",
      "6 A\n",
      "7 C\n",
      "8 G\n",
      "9 A\n",
      "10 A\n",
      "11 A\n"
     ]
    }
   ],
   "source": [
    "for index, letter in enumerate(my_seq):\n",
    "    print(\"%i %s\" % (index, letter))"
   ]
  },
  {
   "cell_type": "code",
   "execution_count": 27,
   "id": "2ad73265",
   "metadata": {},
   "outputs": [
    {
     "name": "stdout",
     "output_type": "stream",
     "text": [
      "12\n"
     ]
    }
   ],
   "source": [
    "print(len(my_seq))"
   ]
  },
  {
   "cell_type": "code",
   "execution_count": 28,
   "id": "e69a8299",
   "metadata": {},
   "outputs": [
    {
     "name": "stdout",
     "output_type": "stream",
     "text": [
      "GACA\n"
     ]
    }
   ],
   "source": [
    "print(my_seq[0:4])"
   ]
  },
  {
   "cell_type": "code",
   "execution_count": 31,
   "id": "72d8a140",
   "metadata": {},
   "outputs": [
    {
     "data": {
      "text/plain": [
       "2"
      ]
     },
     "execution_count": 31,
     "metadata": {},
     "output_type": "execute_result"
    }
   ],
   "source": [
    "my_seq.count(\"AC\")"
   ]
  },
  {
   "cell_type": "code",
   "execution_count": 32,
   "id": "da74a492",
   "metadata": {},
   "outputs": [],
   "source": [
    "# GC 함량 계산하기"
   ]
  },
  {
   "cell_type": "code",
   "execution_count": 34,
   "id": "1e50b93d",
   "metadata": {},
   "outputs": [],
   "source": [
    "GC_rate = (my_seq.count(\"G\")+my_seq.count(\"C\"))/len(my_seq)* 100"
   ]
  },
  {
   "cell_type": "code",
   "execution_count": 38,
   "id": "b74dac22",
   "metadata": {},
   "outputs": [
    {
     "name": "stdout",
     "output_type": "stream",
     "text": [
      "GC 함량은 33.33\n"
     ]
    }
   ],
   "source": [
    "print(f\"GC 함량은 {GC_rate:.2f}\")"
   ]
  },
  {
   "cell_type": "code",
   "execution_count": 40,
   "id": "f022e4d1",
   "metadata": {},
   "outputs": [
    {
     "data": {
      "text/plain": [
       "33.333333333333336"
      ]
     },
     "execution_count": 40,
     "metadata": {},
     "output_type": "execute_result"
    }
   ],
   "source": [
    "from Bio.SeqUtils import GC\n",
    "GC(my_seq)"
   ]
  },
  {
   "cell_type": "code",
   "execution_count": null,
   "id": "1529c2d8",
   "metadata": {},
   "outputs": [],
   "source": []
  }
 ],
 "metadata": {
  "kernelspec": {
   "display_name": "Python 3",
   "language": "python",
   "name": "python3"
  },
  "language_info": {
   "codemirror_mode": {
    "name": "ipython",
    "version": 3
   },
   "file_extension": ".py",
   "mimetype": "text/x-python",
   "name": "python",
   "nbconvert_exporter": "python",
   "pygments_lexer": "ipython3",
   "version": "3.8.8"
  }
 },
 "nbformat": 4,
 "nbformat_minor": 5
}
